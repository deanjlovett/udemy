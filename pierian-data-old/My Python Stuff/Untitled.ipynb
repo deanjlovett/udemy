{
 "cells": [
  {
   "cell_type": "code",
   "execution_count": 7,
   "id": "453a3d08",
   "metadata": {
    "tags": []
   },
   "outputs": [],
   "source": [
    "from IPython.display import clear_output\n",
    "\n",
    "board = []\n",
    "legal_pos = []\n",
    "\n",
    "\n",
    "\n"
   ]
  },
  {
   "cell_type": "code",
   "execution_count": 3,
   "id": "a3cec3d5",
   "metadata": {
    "tags": []
   },
   "outputs": [
    {
     "name": "stdout",
     "output_type": "stream",
     "text": [
      "['A1', 'A2', 'A3', 'B1', 'B2', 'B3', 'C1', 'C2', 'C3']\n",
      "\n",
      "  1|2|3\n",
      "A  | | \n",
      "  -+-+-\n",
      "B  | | \n",
      "  -+-+-\n",
      "C  | | \n"
     ]
    }
   ],
   "source": [
    "init_board(board)\n",
    "init_legal_pos(legal_pos )\n",
    "clear_board(board)\n",
    "display_board(board)"
   ]
  },
  {
   "cell_type": "code",
   "execution_count": null,
   "id": "e29bd8f2",
   "metadata": {
    "tags": []
   },
   "outputs": [
    {
     "name": "stdout",
     "output_type": "stream",
     "text": [
      "['A1', 'A2', 'A3', 'B1', 'B2', 'B3', 'C1', 'C2', 'C3', 'Q', 'QUIT']\n",
      "\n",
      "It is X's move:\n",
      "\n",
      "  1|2|3\n",
      "A  | | \n",
      "  -+-+-\n",
      "B  | | \n",
      "  -+-+-\n",
      "C  | | \n",
      "\n",
      "It is X's move:\n",
      "\n",
      "Pick a position for mark [A1,A2,A2,B1,B2...]: g1\n",
      "\n",
      "position selected: G1\n",
      "Sorry, but you did not choose a valid position [A1,A2,A2,B1,B2...]\n",
      "\n",
      "It is X's move:\n",
      "\n"
     ]
    }
   ],
   "source": [
    "from IPython.display import clear_output\n",
    "\n",
    "is_game_on = True\n",
    "board = []\n",
    "is_x_move = True\n",
    "legal_pos = []\n",
    "quit_pos = [\"Q\",\"QUIT\",\"EXIT\",\"E\"]\n",
    "\n",
    "\n",
    "def init_legal_pos(legal_pos):\n",
    "    letters = ['A','B','C']\n",
    "    for c in letters:\n",
    "        for i in range(1,4):\n",
    "            legal_pos.append(c+str(i))\n",
    "    # legal_pos.append(\"X\")\n",
    "    # legal_pos.append(\"EXIT\")\n",
    "    legal_pos.append(\"Q\")\n",
    "    legal_pos.append(\"QUIT\")\n",
    "    print(legal_pos)\n",
    "\n",
    "\n",
    "def init_board(bd):\n",
    "    for i in range(0,10):\n",
    "        bd.append('#')\n",
    "\n",
    "def clear_board(bd):\n",
    "    for i in range(0,10):\n",
    "        bd[i]=' '\n",
    "\n",
    "\n",
    "def clear_screen():\n",
    "    pass\n",
    "\n",
    "def display_whose_move():\n",
    "    if is_x_move:\n",
    "        print(\"It is X's move:\")\n",
    "    else:\n",
    "        print(\"It is O's move:\")\n",
    "\n",
    "def display_board(bd,display_whose=True):\n",
    "    print()\n",
    "    if display_whose:\n",
    "        display_whose_move()\n",
    "    print()\n",
    "    print( \"  1|2|3\")\n",
    "    print(f\"A {bd[0]}|{bd[1]}|{bd[2]}\")\n",
    "    print( \"  -+-+-\")\n",
    "    print(f\"B {bd[3]}|{bd[4]}|{bd[5]}\")\n",
    "    print( \"  -+-+-\")\n",
    "    print(f\"C {bd[6]}|{bd[7]}|{bd[8]}\")\n",
    "    print()\n",
    "    if display_whose:\n",
    "        display_whose_move()\n",
    "    print()\n",
    "\n",
    "def pos_choice():\n",
    "        \n",
    "    choice = 'wrong'\n",
    "    while choice not in legal_pos:\n",
    "        \n",
    "        choice = input(\"Pick a position for mark [A1,A2,A3,B1,B2...]: \").upper()\n",
    "        print()\n",
    "        print(\"position selected:\",choice)\n",
    "        \n",
    "        if choice not in legal_pos:\n",
    "            print(\"Sorry, but you did not choose a valid position [A1,A2,A3,B1,B2...]\")\n",
    "            print()\n",
    "            display_whose_move()\n",
    "        print()\n",
    "        \n",
    "    return choice\n",
    "\n",
    "def apply_choice(board,pos):\n",
    "    row = ord(pos[0])-ord('A')\n",
    "    col = int(pos[1])-1\n",
    "    if board[row*3+col] != ' ':\n",
    "        print(\"Sorry, Dave... I can't do that. There is a piece already there.\")\n",
    "        return board, False\n",
    "    elif is_x_move:\n",
    "        board[row*3+col] = 'X'\n",
    "    else:\n",
    "        board[row*3+col] = 'O'\n",
    "    return board, True\n",
    "\n",
    "def check_for_win(board):\n",
    "    if  ((board[0] == board[3] == board[6] ) and (board[0]!=' ')) or \\\n",
    "        ((board[1] == board[4] == board[7] ) and (board[1]!=' ')) or \\\n",
    "        ((board[2] == board[5] == board[8] ) and (board[2]!=' ')) or \\\n",
    "        ((board[0] == board[1] == board[2] ) and (board[0]!=' ')) or \\\n",
    "        ((board[3] == board[4] == board[5] ) and (board[3]!=' ')) or \\\n",
    "        ((board[6] == board[7] == board[8] ) and (board[6]!=' ')) or \\\n",
    "        ((board[0] == board[4] == board[8] ) and (board[0]!=' ')) or \\\n",
    "        ((board[2] == board[4] == board[6] ) and (board[2]!=' ')):\n",
    "        display_board(board,False)\n",
    "        print()\n",
    "        if is_x_move:\n",
    "            print(\"X wins !!\")\n",
    "        else:\n",
    "            print(\"O wins !!\")\n",
    "        return True\n",
    "    return False\n",
    "    \n",
    "\n",
    "def gameon_choice():\n",
    "    choice = 'wrong'\n",
    "    while choice not in ['Y','y','N','n']:\n",
    "        choice = input(\"Would you like to keep playing? Y or N \")\n",
    "        if choice not in ['Y','y','N','n']:\n",
    "            #clear_output()\n",
    "            print(\"Sorry, I didn't understand. Please make sure to choose Y or N.\")\n",
    "    if choice == \"Y\" or choice==\"y\":\n",
    "        return True\n",
    "    else:\n",
    "        return False    \n",
    "\n",
    "init_board(board)\n",
    "init_legal_pos(legal_pos )\n",
    "clear_board(board)\n",
    "\n",
    "while is_game_on:\n",
    "    clear_screen()\n",
    "    display_board(board)\n",
    "    pos = pos_choice()\n",
    "    if pos in quit_pos:\n",
    "        print(\"Quitting game.\")\n",
    "        break\n",
    "    board,ok = apply_choice(board,pos)\n",
    "    if ok:\n",
    "        if check_for_win(board):\n",
    "            break\n",
    "        if is_x_move:\n",
    "            is_x_move = False\n",
    "        else:\n",
    "            is_x_move = True\n",
    "    clear_screen()\n",
    "    #display_board(board)\n",
    "    # is_game_on = gameon_choice()\n"
   ]
  },
  {
   "cell_type": "code",
   "execution_count": 27,
   "id": "91bdfe07",
   "metadata": {},
   "outputs": [
    {
     "data": {
      "text/plain": [
       "'r'"
      ]
     },
     "execution_count": 27,
     "metadata": {},
     "output_type": "execute_result"
    }
   ],
   "source": []
  }
 ],
 "metadata": {
  "kernelspec": {
   "display_name": "Python 3 (ipykernel)",
   "language": "python",
   "name": "python3"
  },
  "language_info": {
   "codemirror_mode": {
    "name": "ipython",
    "version": 3
   },
   "file_extension": ".py",
   "mimetype": "text/x-python",
   "name": "python",
   "nbconvert_exporter": "python",
   "pygments_lexer": "ipython3",
   "version": "3.11.5"
  }
 },
 "nbformat": 4,
 "nbformat_minor": 5
}
